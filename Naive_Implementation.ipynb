{
 "cells": [
  {
   "cell_type": "code",
   "execution_count": 1,
   "metadata": {},
   "outputs": [],
   "source": [
    "#### JE N'AI PAS COMPRIS COMMENT INITIALISER L'ALGO ....."
   ]
  },
  {
   "cell_type": "code",
   "execution_count": 51,
   "metadata": {},
   "outputs": [],
   "source": [
    "import pandas as pd\n",
    "import numpy as np\n",
    "from sklearn.utils.extmath import cartesian\n",
    "\n",
    "import matplotlib.pyplot as plt\n",
    "\n",
    "% matplotlib inline\n",
    "\n",
    "\n",
    "#s = films\n",
    "#u = users\n",
    "#z = class"
   ]
  },
  {
   "cell_type": "code",
   "execution_count": 52,
   "metadata": {},
   "outputs": [],
   "source": [
    "data = pd.read_csv(\"ratings.csv\")"
   ]
  },
  {
   "cell_type": "code",
   "execution_count": 53,
   "metadata": {},
   "outputs": [],
   "source": [
    "data = data.drop(['rating', 'timestamp'],axis=1).head(1000)"
   ]
  },
  {
   "cell_type": "code",
   "execution_count": 54,
   "metadata": {},
   "outputs": [
    {
     "name": "stdout",
     "output_type": "stream",
     "text": [
      "nb of movies: 669\n",
      "nb of users: 15\n"
     ]
    }
   ],
   "source": [
    "#number of classes :\n",
    "nb_z = 3\n",
    "nb_s = len(data.movieId.unique())\n",
    "nb_u = len(data.userId.unique())\n",
    "print(\"nb of movies: \" + str(nb_s))\n",
    "print(\"nb of users: \" + str(nb_u))"
   ]
  },
  {
   "cell_type": "code",
   "execution_count": 55,
   "metadata": {},
   "outputs": [
    {
     "data": {
      "text/html": [
       "<div>\n",
       "<style>\n",
       "    .dataframe thead tr:only-child th {\n",
       "        text-align: right;\n",
       "    }\n",
       "\n",
       "    .dataframe thead th {\n",
       "        text-align: left;\n",
       "    }\n",
       "\n",
       "    .dataframe tbody tr th {\n",
       "        vertical-align: top;\n",
       "    }\n",
       "</style>\n",
       "<table border=\"1\" class=\"dataframe\">\n",
       "  <thead>\n",
       "    <tr style=\"text-align: right;\">\n",
       "      <th></th>\n",
       "      <th>userId</th>\n",
       "      <th>movieId</th>\n",
       "    </tr>\n",
       "  </thead>\n",
       "  <tbody>\n",
       "    <tr>\n",
       "      <th>0</th>\n",
       "      <td>1</td>\n",
       "      <td>31</td>\n",
       "    </tr>\n",
       "    <tr>\n",
       "      <th>1</th>\n",
       "      <td>1</td>\n",
       "      <td>1029</td>\n",
       "    </tr>\n",
       "    <tr>\n",
       "      <th>2</th>\n",
       "      <td>1</td>\n",
       "      <td>1061</td>\n",
       "    </tr>\n",
       "    <tr>\n",
       "      <th>3</th>\n",
       "      <td>1</td>\n",
       "      <td>1129</td>\n",
       "    </tr>\n",
       "    <tr>\n",
       "      <th>4</th>\n",
       "      <td>1</td>\n",
       "      <td>1172</td>\n",
       "    </tr>\n",
       "    <tr>\n",
       "      <th>5</th>\n",
       "      <td>1</td>\n",
       "      <td>1263</td>\n",
       "    </tr>\n",
       "    <tr>\n",
       "      <th>6</th>\n",
       "      <td>1</td>\n",
       "      <td>1287</td>\n",
       "    </tr>\n",
       "    <tr>\n",
       "      <th>7</th>\n",
       "      <td>1</td>\n",
       "      <td>1293</td>\n",
       "    </tr>\n",
       "    <tr>\n",
       "      <th>8</th>\n",
       "      <td>1</td>\n",
       "      <td>1339</td>\n",
       "    </tr>\n",
       "    <tr>\n",
       "      <th>9</th>\n",
       "      <td>1</td>\n",
       "      <td>1343</td>\n",
       "    </tr>\n",
       "  </tbody>\n",
       "</table>\n",
       "</div>"
      ],
      "text/plain": [
       "   userId  movieId\n",
       "0       1       31\n",
       "1       1     1029\n",
       "2       1     1061\n",
       "3       1     1129\n",
       "4       1     1172\n",
       "5       1     1263\n",
       "6       1     1287\n",
       "7       1     1293\n",
       "8       1     1339\n",
       "9       1     1343"
      ]
     },
     "execution_count": 55,
     "metadata": {},
     "output_type": "execute_result"
    }
   ],
   "source": [
    "data.head(10)"
   ]
  },
  {
   "cell_type": "code",
   "execution_count": 56,
   "metadata": {},
   "outputs": [],
   "source": [
    "# Define a data structure to keep the data\n",
    "\n",
    "\n",
    "# q(z,s,u;Ω) = p(z|u,s;Ω)\n",
    "\n",
    "q = data\n",
    "# cartesian product of  the data table (u,s) with the different values z\n",
    "q['key'] = 1\n",
    "df = pd.DataFrame(list(range(nb_z)))\n",
    "df['key'] = 1\n",
    "q = q.merge(df,how='left',on='key')\n",
    "q.drop('key', axis = 1, inplace=True)\n",
    "q.columns = ['u','s','z']\n",
    "q['q_zsu'] = None #initialize probas as a nothing defined yet\n",
    "\n",
    "\n",
    "# p(s|z;Ω)\n",
    "p1 = pd.DataFrame(cartesian([data.movieId.unique(),range(nb_z)]))\n",
    "p1.columns = [\"s\",\"z\"]\n",
    "#p1[\"p_sz\"] = 1/nb_s #initialize probas as a uniform law\n",
    "p1[\"p_sz\"] = np.random.rand(len(p1.z)) #initialize proba randomly - normalization is going to be done during the EM\n",
    "\n",
    "\n",
    "# p(z|u;Ω)\n",
    "p2 = pd.DataFrame(cartesian([range(nb_z),data.userId.unique()]))\n",
    "p2.columns = [\"z\",\"u\"]\n",
    "#p2[\"p_zu\"] = 1/nb_z #initialize probas as a uniform law\n",
    "p2[\"p_zu\"] = np.random.rand(len(p2.z)) #initialize proba randomly - normalization is going to be done during the EM"
   ]
  },
  {
   "cell_type": "code",
   "execution_count": 57,
   "metadata": {},
   "outputs": [],
   "source": [
    "def normalize(x) :\n",
    "    return(x/x.sum())"
   ]
  },
  {
   "cell_type": "code",
   "execution_count": 70,
   "metadata": {},
   "outputs": [
    {
     "name": "stderr",
     "output_type": "stream",
     "text": [
      "/Users/sachaizadi/anaconda3/lib/python3.6/site-packages/pandas/core/indexing.py:179: SettingWithCopyWarning: \n",
      "A value is trying to be set on a copy of a slice from a DataFrame\n",
      "\n",
      "See the caveats in the documentation: http://pandas.pydata.org/pandas-docs/stable/indexing.html#indexing-view-versus-copy\n",
      "  self._setitem_with_indexer(indexer, value)\n"
     ]
    }
   ],
   "source": [
    "nb_iter = 1\n",
    "\n",
    "for k in range(nb_iter) :\n",
    "    \n",
    "    # E-step :\n",
    "    # Compute p(z|u,s)\n",
    "    for i in q.index :\n",
    "        u,s,z = q.u.iloc[i], q.s.iloc[i], q.z.iloc[i]\n",
    "        q.q_zsu.iloc[i] = float(p1.p_sz[p1.s==s][p1.z==z]) * float(p2.p_zu[p2.u==u][p2.z==z])\n",
    "    \n",
    "    q.q_zsu = q.groupby([\"u\",\"s\"]).apply(normalize).q_zsu\n",
    "    \n",
    "    q.to_csv(\"PlotUniform/q_t=\"+str(k)+\".csv\", sep = \",\")\n",
    "    \n",
    "    \n",
    "    # M-step :\n",
    "    # Compute p(s|z)\n",
    "    for i in p1.index :\n",
    "        s,z = p1.s.iloc[i], p1.z.iloc[i]\n",
    "        p1.p_sz.iloc[i] = q.q_zsu[q.s==s][q.z==z].sum()\n",
    "      \n",
    "    p1.p_sz = p1.groupby([\"z\"]).apply(normalize).p_sz\n",
    "    \n",
    "    # Compute p(z|u)\n",
    "    for i in p2.index :\n",
    "        z,u = p2.z.iloc[i], p2.u.iloc[i]\n",
    "        p2.p_zu.iloc[i] = q.q_zsu[q.z==z][q.u==u].sum()\n",
    "    \n",
    "    \n",
    "    p2.p_zu = p2.groupby([\"u\"]).apply(normalize).p_zu\n",
    "    "
   ]
  },
  {
   "cell_type": "code",
   "execution_count": 82,
   "metadata": {},
   "outputs": [],
   "source": [
    "#np.sort(p1.p_sz.unique())\n",
    "#np.sort(p2.p_zu.unique())\n",
    "#np.sort(q.q_zsu.unique())"
   ]
  },
  {
   "cell_type": "code",
   "execution_count": null,
   "metadata": {},
   "outputs": [],
   "source": [
    "# Coder le link entre les probas et les films : classe 1, top_films = ...."
   ]
  },
  {
   "cell_type": "code",
   "execution_count": null,
   "metadata": {},
   "outputs": [],
   "source": []
  },
  {
   "cell_type": "code",
   "execution_count": null,
   "metadata": {},
   "outputs": [],
   "source": []
  },
  {
   "cell_type": "markdown",
   "metadata": {},
   "source": [
    "It is known that the EM algorithm can converge to local maxima of the likelihood function (thus, not necessarily to its global maximum). In his course, F. Bach states that _\"It does not converge to a global maximum but rather to a local maximum because we are dealing here with a non-convex problem. [...] Because EM gives a local maximum, it is clever to choose a $\\theta_0$ relatively close to the final solution.\"_\n",
    "\n",
    "As an example, imagine that $\\hat{p}_0(s\\vert z) = \\frac{1}{card(\\mathcal{S})}$ and $\\hat{p}_0(z\\vert u)= \\frac{1}{card(\\mathcal{Z})}$ are two uniform laws (the property can easily be generalized to any law that does not depend on $z$), then:\n",
    "\n",
    "At $t=1 :$\n",
    "\n",
    "* $q_1(z;u,s) = \\frac{\\frac{1}{card(\\mathcal{S})}\\frac{1}{card(\\mathcal{Z})}}{\\sum_z \\frac{1}{card(\\mathcal{S})}\\frac{1}{card(\\mathcal{Z})}} = \\frac{\\frac{1}{card(\\mathcal{S})}\\frac{1}{card(\\mathcal{Z})}}{card(\\mathcal{Z}) \\frac{1}{card(\\mathcal{S})}\\frac{1}{card(\\mathcal{Z})}} = \\frac{1}{card(\\mathcal{Z})}$\n",
    "\n",
    "* $\\hat{p}_1(s\\vert z) = \\frac{\\sum_u \\frac{1}{card(\\mathcal{Z})}}{\\sum_u \\sum_s \\frac{1}{card(\\mathcal{Z})}} = \\frac{\\frac{card(\\mathcal{U}\\vert s)}{card(\\mathcal{Z})}}{\\sum_s\\frac{card(\\mathcal{U}\\vert s)}{card(\\mathcal{Z})}} = \\frac{card(\\mathcal{U\\vert s})}{card(\\mathcal{U,S})}$\n",
    "\n",
    "* $\\hat{p}_1(z\\vert u) = \\frac{\\sum_s \\frac{1}{card(\\mathcal{Z})}}{\\sum_z \\sum_s \\frac{1}{card(\\mathcal{Z})}} = \\frac{1}{card(\\mathcal{Z})}$\n",
    "\n",
    "\n",
    "And at $t=2 :$\n",
    "\n",
    "* $q_2(z;u,s) = \\frac{\\frac{card(\\mathcal{U\\vert s})}{card(\\mathcal{U,S})}\\frac{1}{card(\\mathcal{Z})}}{\\sum_z \\frac{card(\\mathcal{U\\vert s})}{card(\\mathcal{U,S})}\\frac{1}{card(\\mathcal{Z})}} = \\frac{1}{card(\\mathcal{Z})}$\n",
    "\n",
    "* ... and we remain stuck on the same position as previously ...\n",
    "\n"
   ]
  },
  {
   "cell_type": "code",
   "execution_count": null,
   "metadata": {},
   "outputs": [],
   "source": [
    "# Not very meaningful plots here"
   ]
  },
  {
   "cell_type": "code",
   "execution_count": 81,
   "metadata": {},
   "outputs": [
    {
     "data": {
      "text/plain": [
       "[<matplotlib.lines.Line2D at 0x113c30f98>]"
      ]
     },
     "execution_count": 81,
     "metadata": {},
     "output_type": "execute_result"
    },
    {
     "data": {
      "image/png": "[encoded data removed]",
      "text/plain": [
       "<matplotlib.figure.Figure at 0x1160547b8>"
      ]
     },
     "metadata": {},
     "output_type": "display_data"
    }
   ],
   "source": [
    "plt.plot(p1.z,p1.p_sz,'o')"
   ]
  },
  {
   "cell_type": "code",
   "execution_count": 75,
   "metadata": {},
   "outputs": [
    {
     "data": {
      "text/plain": [
       "[<matplotlib.lines.Line2D at 0x113bf0dd8>]"
      ]
     },
     "execution_count": 75,
     "metadata": {},
     "output_type": "execute_result"
    },
    {
     "data": {
      "image/png": "[encoded data removed]",
      "text/plain": [
       "<matplotlib.figure.Figure at 0x115dd62e8>"
      ]
     },
     "metadata": {},
     "output_type": "display_data"
    }
   ],
   "source": [
    "plt.plot(p1.s,p1.p_sz,'o')"
   ]
  },
  {
   "cell_type": "code",
   "execution_count": 76,
   "metadata": {},
   "outputs": [
    {
     "data": {
      "text/plain": [
       "[<matplotlib.lines.Line2D at 0x113cab588>]"
      ]
     },
     "execution_count": 76,
     "metadata": {},
     "output_type": "execute_result"
    },
    {
     "data": {
      "image/png": "[encoded data removed]",
      "text/plain": [
       "<matplotlib.figure.Figure at 0x115d786a0>"
      ]
     },
     "metadata": {},
     "output_type": "display_data"
    }
   ],
   "source": [
    "plt.plot(p2.z,p2.p_zu,'o')"
   ]
  },
  {
   "cell_type": "code",
   "execution_count": 77,
   "metadata": {},
   "outputs": [
    {
     "data": {
      "text/plain": [
       "[<matplotlib.lines.Line2D at 0x1161ad2b0>]"
      ]
     },
     "execution_count": 77,
     "metadata": {},
     "output_type": "execute_result"
    },
    {
     "data": {
      "image/png": "[encoded data removed]",
      "text/plain": [
       "<matplotlib.figure.Figure at 0x113b56be0>"
      ]
     },
     "metadata": {},
     "output_type": "display_data"
    }
   ],
   "source": [
    "plt.plot(p2.u,p2.p_zu,'o')"
   ]
  },
  {
   "cell_type": "code",
   "execution_count": 78,
   "metadata": {},
   "outputs": [
    {
     "data": {
      "text/plain": [
       "[<matplotlib.lines.Line2D at 0x113bc0390>]"
      ]
     },
     "execution_count": 78,
     "metadata": {},
     "output_type": "execute_result"
    },
    {
     "data": {
      "image/png": "[encoded data removed]",
      "text/plain": [
       "<matplotlib.figure.Figure at 0x1161a3e10>"
      ]
     },
     "metadata": {},
     "output_type": "display_data"
    }
   ],
   "source": [
    "plt.plot(q.u,q.q_zsu,'o')"
   ]
  },
  {
   "cell_type": "code",
   "execution_count": 79,
   "metadata": {},
   "outputs": [
    {
     "data": {
      "text/plain": [
       "[<matplotlib.lines.Line2D at 0x113b87518>]"
      ]
     },
     "execution_count": 79,
     "metadata": {},
     "output_type": "execute_result"
    },
    {
     "data": {
      "image/png": "[encoded data removed]",
      "text/plain": [
       "<matplotlib.figure.Figure at 0x115f69400>"
      ]
     },
     "metadata": {},
     "output_type": "display_data"
    }
   ],
   "source": [
    "plt.plot(q.s,q.q_zsu,'o')"
   ]
  },
  {
   "cell_type": "code",
   "execution_count": 80,
   "metadata": {},
   "outputs": [
    {
     "data": {
      "text/plain": [
       "[<matplotlib.lines.Line2D at 0x116058320>]"
      ]
     },
     "execution_count": 80,
     "metadata": {},
     "output_type": "execute_result"
    },
    {
     "data": {
      "image/png": "[encoded data removed]",
      "text/plain": [
       "<matplotlib.figure.Figure at 0x115dad7f0>"
      ]
     },
     "metadata": {},
     "output_type": "display_data"
    }
   ],
   "source": [
    "plt.plot(q.z,q.q_zsu,'o')"
   ]
  },
  {
   "cell_type": "code",
   "execution_count": null,
   "metadata": {},
   "outputs": [],
   "source": []
  },
  {
   "cell_type": "code",
   "execution_count": null,
   "metadata": {},
   "outputs": [],
   "source": []
  }
 ],
 "metadata": {
  "kernelspec": {
   "display_name": "Python 3",
   "language": "python",
   "name": "python3"
  },
  "language_info": {
   "codemirror_mode": {
    "name": "ipython",
    "version": 3
   },
   "file_extension": ".py",
   "mimetype": "text/x-python",
   "name": "python",
   "nbconvert_exporter": "python",
   "pygments_lexer": "ipython3",
   "version": "3.6.3"
  }
 },
 "nbformat": 4,
 "nbformat_minor": 2
}
