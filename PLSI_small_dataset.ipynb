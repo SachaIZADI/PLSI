{
 "cells": [
  {
   "cell_type": "markdown",
   "metadata": {},
   "source": [
    "# PLSI IMPLEMENTATION ON SPARK "
   ]
  },
  {
   "cell_type": "markdown",
   "metadata": {},
   "source": [
    "# 1. Libraries and file importation"
   ]
  },
  {
   "cell_type": "code",
   "execution_count": 17,
   "metadata": {
    "collapsed": true
   },
   "outputs": [],
   "source": [
    "import pandas as pd\n",
    "import time\n",
    "import numpy as np\n",
    "import matplotlib.pyplot as plt\n",
    "import findspark\n",
    "findspark.init(\"/Users/amirbenmahjoub/Desktop/spark-2.2.0-bin-hadoop2.7\")\n",
    "import pyspark\n",
    "from numpy import random "
   ]
  },
  {
   "cell_type": "code",
   "execution_count": 18,
   "metadata": {
    "collapsed": true
   },
   "outputs": [],
   "source": [
    "# importing the short csv file of ratings and save it in the right format. \n",
    "pd.read_csv(\"ratings.csv\").to_csv(\"ratings_short.csv\",sep=',',index=False)"
   ]
  },
  {
   "cell_type": "code",
   "execution_count": 19,
   "metadata": {},
   "outputs": [],
   "source": [
    "# Opening a Spark context\n",
    "sc = pyspark.SparkContext()"
   ]
  },
  {
   "cell_type": "code",
   "execution_count": 16,
   "metadata": {
    "collapsed": true
   },
   "outputs": [],
   "source": [
    "# Shutting down the Spark contect (optional)\n",
    "#sc.stop()"
   ]
  },
  {
   "cell_type": "code",
   "execution_count": 20,
   "metadata": {},
   "outputs": [
    {
     "data": {
      "text/html": [
       "<div>\n",
       "<style>\n",
       "    .dataframe thead tr:only-child th {\n",
       "        text-align: right;\n",
       "    }\n",
       "\n",
       "    .dataframe thead th {\n",
       "        text-align: left;\n",
       "    }\n",
       "\n",
       "    .dataframe tbody tr th {\n",
       "        vertical-align: top;\n",
       "    }\n",
       "</style>\n",
       "<table border=\"1\" class=\"dataframe\">\n",
       "  <thead>\n",
       "    <tr style=\"text-align: right;\">\n",
       "      <th></th>\n",
       "      <th>userId</th>\n",
       "      <th>movieId</th>\n",
       "      <th>rating</th>\n",
       "      <th>timestamp</th>\n",
       "    </tr>\n",
       "  </thead>\n",
       "  <tbody>\n",
       "    <tr>\n",
       "      <th>0</th>\n",
       "      <td>1</td>\n",
       "      <td>31</td>\n",
       "      <td>2.5</td>\n",
       "      <td>1260759144</td>\n",
       "    </tr>\n",
       "    <tr>\n",
       "      <th>1</th>\n",
       "      <td>1</td>\n",
       "      <td>1029</td>\n",
       "      <td>3.0</td>\n",
       "      <td>1260759179</td>\n",
       "    </tr>\n",
       "    <tr>\n",
       "      <th>2</th>\n",
       "      <td>1</td>\n",
       "      <td>1061</td>\n",
       "      <td>3.0</td>\n",
       "      <td>1260759182</td>\n",
       "    </tr>\n",
       "    <tr>\n",
       "      <th>3</th>\n",
       "      <td>1</td>\n",
       "      <td>1129</td>\n",
       "      <td>2.0</td>\n",
       "      <td>1260759185</td>\n",
       "    </tr>\n",
       "    <tr>\n",
       "      <th>4</th>\n",
       "      <td>1</td>\n",
       "      <td>1172</td>\n",
       "      <td>4.0</td>\n",
       "      <td>1260759205</td>\n",
       "    </tr>\n",
       "  </tbody>\n",
       "</table>\n",
       "</div>"
      ],
      "text/plain": [
       "   userId  movieId  rating   timestamp\n",
       "0       1       31     2.5  1260759144\n",
       "1       1     1029     3.0  1260759179\n",
       "2       1     1061     3.0  1260759182\n",
       "3       1     1129     2.0  1260759185\n",
       "4       1     1172     4.0  1260759205"
      ]
     },
     "execution_count": 20,
     "metadata": {},
     "output_type": "execute_result"
    }
   ],
   "source": [
    "#Some basic information on the database\n",
    "ratings_short = pd.read_csv(\"ratings_short.csv\")\n",
    "ratings_short.head()"
   ]
  },
  {
   "cell_type": "code",
   "execution_count": 21,
   "metadata": {},
   "outputs": [
    {
     "name": "stdout",
     "output_type": "stream",
     "text": [
      "number of different ratings :  100004\n"
     ]
    }
   ],
   "source": [
    "print(\"number of different ratings : \", ratings_short.shape[0])"
   ]
  },
  {
   "cell_type": "code",
   "execution_count": 22,
   "metadata": {},
   "outputs": [
    {
     "name": "stdout",
     "output_type": "stream",
     "text": [
      "number of different users :  671\n"
     ]
    }
   ],
   "source": [
    "print(\"number of different users : \", ratings_short.drop_duplicates(subset=['userId']).shape[0])"
   ]
  },
  {
   "cell_type": "code",
   "execution_count": 23,
   "metadata": {},
   "outputs": [
    {
     "data": {
      "text/plain": [
       "['1,31,2.5,1260759144',\n",
       " '1,1029,3.0,1260759179',\n",
       " '1,1061,3.0,1260759182',\n",
       " '1,1129,2.0,1260759185',\n",
       " '1,1172,4.0,1260759205',\n",
       " '1,1263,2.0,1260759151',\n",
       " '1,1287,2.0,1260759187',\n",
       " '1,1293,2.0,1260759148',\n",
       " '1,1339,3.5,1260759125',\n",
       " '1,1343,2.0,1260759131']"
      ]
     },
     "execution_count": 23,
     "metadata": {},
     "output_type": "execute_result"
    }
   ],
   "source": [
    "#importing the document - creating the RDD object. \n",
    "document = sc.textFile(\"/Users/amirbenmahjoub/Desktop/3A Polytechnique/Database Management Systems/Data Management II-20180228/Project/PLSI/ratings_short.csv\")\n",
    "\n",
    "# Removing the header\n",
    "header = document.first()\n",
    "document = document.filter(lambda x: x != header)\n",
    "\n",
    "# Collecting the RDD to check the output\n",
    "document.collect()[0:10]"
   ]
  },
  {
   "cell_type": "markdown",
   "metadata": {},
   "source": [
    "# 2. The algorithm"
   ]
  },
  {
   "cell_type": "markdown",
   "metadata": {},
   "source": [
    "## 2.1. Methodology : Running the 1st iteration of the algorithm step-by-step"
   ]
  },
  {
   "cell_type": "code",
   "execution_count": 24,
   "metadata": {
    "collapsed": true
   },
   "outputs": [],
   "source": [
    "# A parser for extracting the interresting information from the dataset.\n",
    "\n",
    "def parseLine(line):\n",
    "    line = line.split(',')\n",
    "    # We want to keep only the two first rows since we consider that a click-log is a 1-rating\n",
    "    line = line[0]+','+line[1]\n",
    "    return(line)"
   ]
  },
  {
   "cell_type": "code",
   "execution_count": 25,
   "metadata": {
    "collapsed": true
   },
   "outputs": [],
   "source": [
    "# Defining the number of clusters. \n",
    "# nb of 'clusters' is a broadcast variable.\n",
    "nb_z = sc.broadcast(3)"
   ]
  },
  {
   "cell_type": "code",
   "execution_count": 26,
   "metadata": {
    "collapsed": true
   },
   "outputs": [],
   "source": [
    "# for a click-log couple (u,s), create a z tuples : [(u,s,z) for z in [1:nb_z]]\n",
    "\n",
    "def cartesianProd(us):\n",
    "    to_return = []\n",
    "    for z in range(nb_z.value):\n",
    "        to_return += [us+','+str(z)]\n",
    "    return(to_return)"
   ]
  },
  {
   "cell_type": "code",
   "execution_count": 27,
   "metadata": {},
   "outputs": [
    {
     "data": {
      "text/plain": [
       "[('1,31,0', 0.306719161308564),\n",
       " ('1,31,1', 0.0669864792985333),\n",
       " ('1,31,2', 0.36536465897384085),\n",
       " ('1,1029,0', 0.9166589410183121),\n",
       " ('1,1029,1', 0.7192665553088856),\n",
       " ('1,1029,2', 0.9349789921296401),\n",
       " ('1,1061,0', 0.5455355258055459),\n",
       " ('1,1061,1', 0.917739012270406),\n",
       " ('1,1061,2', 0.599856633699085),\n",
       " ('1,1129,0', 0.17815209782815966),\n",
       " ('1,1129,1', 0.8363905222160266),\n",
       " ('1,1129,2', 0.8313195807469185)]"
      ]
     },
     "execution_count": 27,
     "metadata": {},
     "output_type": "execute_result"
    }
   ],
   "source": [
    "# creation of the tuples (u,s,z ; q*) with (u,s,z) as key.\n",
    "# We initialize q* randomly as the Google paper suggests. \n",
    "\n",
    "q0 = document.map(parseLine).flatMap(cartesianProd).map(lambda usz : (usz, random.rand()))\n",
    "q0.collect()[0:12]"
   ]
  },
  {
   "cell_type": "code",
   "execution_count": 28,
   "metadata": {
    "scrolled": true
   },
   "outputs": [
    {
     "name": "stdout",
     "output_type": "stream",
     "text": [
      "(s,z, N(s,z)): \n",
      " [('31,0', 19.69358360164842)] \n",
      "\n",
      "(z, N(z)): \n",
      " [('0', 50168.96028468311)] \n",
      "\n",
      "(s,z, N(s,z)/N(z)): \n",
      " [('31,0', 0.0003925451811219016)] \n",
      "\n"
     ]
    }
   ],
   "source": [
    "##### ********* M-step (computation of the N(s,z)/N(z) = p(s|z) function) ********\n",
    "\n",
    "# return (s,z, N(s,z)) with (s,z) as keys and by summing all the users. \n",
    "Nsz = q0.map(lambda q : (q[0].split(',')[1]+','+q[0].split(',')[2],q[1])).reduceByKey(lambda x,y : x+y)\n",
    "print('(s,z, N(s,z)): \\n', Nsz.collect()[:1],'\\n')\n",
    "\n",
    "# return (z, N(z)=∑N(s,z)) with z as key and by summing N(s,z) on all the movies. \n",
    "Nz = Nsz.map(lambda N : (N[0].split(',')[1], N[1])).reduceByKey(lambda x,y : x+y)\n",
    "print('(z, N(z)): \\n', Nz.collect()[:1],'\\n')\n",
    "\n",
    "# return (s,z, N(s,z)/N(z)) with (s,z) as keys\n",
    "\n",
    "# (s,z, N(s,z)) --> ('z', ('s', N(s,z))) (z as key)\n",
    "Nsz = Nsz.map(lambda x : (x[0].split(',')[1], (x[0].split(',')[0],x[1]))) #('0', ('31', 0.6602937910124607))\n",
    "# ('z', ('s', N(s,z))) JOIN ('z', N(z)) --> ('z', ('s', N(s,z), N(z))) (z as key)\n",
    "tmpN = Nsz.join(Nz) #('0', (('31', 0.6602937910124607), 501.224237413403))\n",
    "#('z', ('s', N(s,z), N(z))) --> ('s,z', (N(s,z)/N(z))) (s,z as keys)\n",
    "Nsz_normalized = tmpN.map(lambda x : (x[1][0][0]+','+x[0], x[1][0][1]/x[1][1]))\n",
    "print('(s,z, N(s,z)/N(z)): \\n', Nsz_normalized.collect()[:1],'\\n')"
   ]
  },
  {
   "cell_type": "code",
   "execution_count": 29,
   "metadata": {},
   "outputs": [
    {
     "name": "stdout",
     "output_type": "stream",
     "text": [
      "(u,z, p~(z|u)): \n",
      " [('1,1', 10.177155055236593)] \n",
      "\n",
      "(u, ∑p~(z|u)): \n",
      " [('1', 31.900072304077035)] \n",
      "\n",
      "(u,z, p(z|u)): \n",
      " [('4,0', 0.3335209269009333)] \n",
      "\n"
     ]
    }
   ],
   "source": [
    "##### ********* M-step (computation of the p(z|u) function) ********\n",
    "\n",
    "# p~(z|u) is the un-normalized value of p(z|u), i.e. ∑p~(z|u) ≠ 1 - Same spirit as the part above. \n",
    "\n",
    "# return (u,z, p~(z|u)) with (u,z) as keys \n",
    "Puz = q0.map(lambda q : (q[0].split(',')[0]+','+q[0].split(',')[2],q[1])).reduceByKey(lambda x,y : x+y)\n",
    "print('(u,z, p~(z|u)): \\n', Puz.collect()[:1],'\\n')\n",
    "\n",
    "# return (u, ∑p~(z|u)) with u as key. \n",
    "Pu = Puz.map(lambda p : (p[0].split(',')[0], p[1])).reduceByKey(lambda x,y : x+y)\n",
    "print('(u, ∑p~(z|u)): \\n', Pu.collect()[:1],'\\n')\n",
    "\n",
    "# return (u, z, p(z|u)=p~(z|u)/∑p~(z|u)) with (u,z) as keys. \n",
    "Puz = Puz.map(lambda x : (x[0].split(',')[0], (x[0].split(',')[1],x[1]))) #('1', ('1', 9.849132242962598))\n",
    "tmpP = Puz.join(Pu) #('4', (('0', 104.52747209196086), 314.82837141455155))\n",
    "Puz = tmpP.map(lambda x : (x[0]+','+x[1][0][0], x[1][0][1]/x[1][1]))\n",
    "print('(u,z, p(z|u)): \\n', Puz.collect()[:1],'\\n')"
   ]
  },
  {
   "cell_type": "code",
   "execution_count": 30,
   "metadata": {},
   "outputs": [
    {
     "name": "stdout",
     "output_type": "stream",
     "text": [
      "(u,s;z, p(s|z)*p(u|z)): \n",
      " [('9,534,0', 8.589712747956928e-05)] \n",
      "\n",
      "(u,s, ∑p(s|z)*p(u|z)): \n",
      " [('232,534', 0.0002640562387517774)] \n",
      "\n",
      "(u,s;z, q*(u,s;z)): \n",
      " [('15,608,0', 0.33179066417839137)] \n",
      "\n"
     ]
    }
   ],
   "source": [
    "##### ********* E-step (computation of the q*(u,s;z) function) ********\n",
    "\n",
    "# 1st pre-step: join q0(u,s;z) & p(z|u) on u & z - and forget old value of q*\n",
    "\n",
    "# (u,s,z ; q*) --> (u,z ; s)\n",
    "tmpQ0 = q0.map(lambda x : (x[0].split(',')[0]+','+x[0].split(',')[2] , x[0].split(',')[1])) #('4,0', 0.346651199923261)\n",
    "# (u,z ; s) JOIN (u,z ; p(z|u)) --> (u,z ; (s,p(z|u)))\n",
    "tmpQ0 = tmpQ0.join(Puz) #('9,0', ('1', 0.3019536803179005))\n",
    "\n",
    "# 2nd pre-step: join q0(u,s;z) & N(s,z)/N(z) on s & z\n",
    "\n",
    "#(u,z ; (s,p(z|u))) --> (s,z;(u,p(z|u)))\n",
    "tmpQ0 = tmpQ0.map(lambda x : (x[1][0]+','+x[0].split(',')[1] ,\\\n",
    "                             (x[0].split(',')[0],x[1][1]))) #('1,0', ('9', 0.3019536803179005))\n",
    "#(s,z;(u,p(z|u))) JOIN (s,z; p(s|z) ) --> (s,z;(u,p(z|u),p(s|z)))\n",
    "tmpQ0 = tmpQ0.join(Nsz_normalized) #('534,0', (('9', 0.3019536803179005), 7.06974580116717e-05))\n",
    "\n",
    "\n",
    "\n",
    "# 1st step for computing q*(u,s;z) --> return ((u,s;z), p(s|z)*p(u|z)) =  ((u,s;z), q*~) with : \n",
    "# q*~ = p(s|z)*p(u|z),  the unormalized version of q* - i.e. ∑q*~ ≠ 1\n",
    "tmpQ0 = tmpQ0.map(lambda x : (x[1][0][0]+','+x[0],\\\n",
    "                             x[1][0][1]*x[1][1]))\n",
    "print('(u,s;z, p(s|z)*p(u|z)): \\n', tmpQ0.collect()[:1],'\\n')\n",
    "\n",
    "# 2nd step for computing q*(u,s;z) --> return ((u,s), ∑p(s|z)*p(u|z))\n",
    "sumTmpQ0 = tmpQ0.map(lambda x : (x[0].split(',')[0]+','+x[0].split(',')[1],x[1])).reduceByKey(lambda x,y : x+y)\n",
    "print('(u,s, ∑p(s|z)*p(u|z)): \\n', sumTmpQ0.collect()[:1],'\\n')\n",
    "\n",
    "\n",
    "# 3rd step for computing q*(u,s;z) --> return ((u,s,z), p(s|z)*p(u|z)/{∑p(s|z)*p(u|z))}\n",
    "\n",
    "#((u,s;z), q*~) --> ((u,s); (z,q*~))\n",
    "tmpQ0 = tmpQ0.map(lambda x : (x[0].split(',')[0]+','+x[0].split(',')[1],\\\n",
    "                             (x[0].split(',')[2],x[1])))\n",
    "#((u,s); (z,q*~)) JOIN ((u,s), ∑q*~) --> ((u,s); ( (z,q*~) ,∑q*~))\n",
    "tmpQ0 = tmpQ0.join(sumTmpQ0)\n",
    "q1 = tmpQ0.map(lambda x : (x[0]+','+x[1][0][0], x[1][0][1]/x[1][1]))\n",
    "print('(u,s;z, q*(u,s;z)): \\n', q1.collect()[:1],'\\n')"
   ]
  },
  {
   "cell_type": "markdown",
   "metadata": {},
   "source": [
    "## 2.2 Full algorithm"
   ]
  },
  {
   "cell_type": "markdown",
   "metadata": {},
   "source": [
    "### 2.2.1 Splitting into testing and training set"
   ]
  },
  {
   "cell_type": "code",
   "execution_count": 31,
   "metadata": {
    "collapsed": true
   },
   "outputs": [],
   "source": [
    "#Number of clusters\n",
    "#We will discuss after the optimal number nb_z. \n",
    "nb_z = sc.broadcast(3)\n",
    "#Number of iterations of the EM algorithm - We will discuss the optimal number after. \n",
    "nb_iter = 30"
   ]
  },
  {
   "cell_type": "code",
   "execution_count": 32,
   "metadata": {
    "collapsed": true
   },
   "outputs": [],
   "source": [
    "# Same functions as above. \n",
    "\n",
    "# A parser for extracting the interresting information from the dataset.\n",
    "\n",
    "def parseLine(line):\n",
    "    line = line.split(',')\n",
    "    line = line[0]+','+line[1]\n",
    "    return(line)\n",
    "\n",
    "# for a click-log couple (u,s), create a tuple (u,s,z) for z in Z\n",
    "\n",
    "def cartesianProd(us):\n",
    "    to_return = []\n",
    "    for z in range(nb_z.value):\n",
    "        to_return += [us+','+str(z)]\n",
    "    return(to_return)"
   ]
  },
  {
   "cell_type": "code",
   "execution_count": 33,
   "metadata": {},
   "outputs": [
    {
     "name": "stdout",
     "output_type": "stream",
     "text": [
      "Total number of elements at the begining: 100004\n",
      "train: ['1,31', '1,1029', '1,1061']\n",
      "nb elements in train: 90000\n",
      "test: ['1,2193', '2,50', '2,265']\n",
      "nb elements in test: 9654\n"
     ]
    }
   ],
   "source": [
    "# Train/test splitting of the initial document. \n",
    "\n",
    "#RQ : \n",
    "#Here, we make sure  to avoid the case where there are \"u\" or \"s\" elements in the test that are not in the train. \n",
    "#For example :  if in the test the user u0 has clicked on the film s0 but s0 is not in the train, \n",
    "#then p(s0|u0) can not be computed and we cannot check if the model well predict the value.\n",
    "\n",
    "# This function takes into input :\n",
    "# --> doc : the first two rows (the useful ones) of the initial document - doc = document.map(parseLine)\n",
    "# --> alpha : the probability that an element is selected in the test set. With the law of large number\n",
    "#it becomes ~ the proportion of the split.\n",
    "# --> seed : corresponding to the seed of the random function on Python\n",
    "\n",
    "#This function returns two RDDs as output : \n",
    "# --> output[0] = train set RDD\n",
    "# --> output[1] = test set RDD\n",
    "\n",
    "#**************************************************************************************************************\n",
    "\n",
    "\n",
    "def splitTrainTest(document, alpha=0.1, seed=42):\n",
    "    \n",
    "    #Splitting train/test\n",
    "    train_test = document.randomSplit([1-alpha, alpha], seed=seed)\n",
    "    train, test = train_test[0], train_test[1]\n",
    "    \n",
    "    # We need to check that film 's' in the test set is also in the train set \n",
    "    # This is mandatory for evaluating our model\n",
    "    \n",
    "    # Creating two RDD with s values of train/test sets.  \n",
    "    s_train = train.map(lambda x : x.split(',')[1])\n",
    "    s_test = test.map(lambda x : x.split(',')[1])\n",
    "    # Creating a comment reference for the film values that need to be broadcasted between all the computers \n",
    "    #in the cluster and that we will use to filter our testing set. \n",
    "    #common reference for the films\n",
    "    s_common = sc.broadcast(s_test.intersection(s_train).collect()) \n",
    "    \n",
    "    # Same for a users 'u'\n",
    "    u_train = train.map(lambda x : x.split(',')[0])\n",
    "    u_test = test.map(lambda x : x.split(',')[0])\n",
    "    #common reference for the users\n",
    "    u_common = sc.broadcast(u_test.intersection(u_train).collect())  \n",
    "    \n",
    "    # filtering the test set : If an element(s or u)from the test set is not in the train set, we delete it\n",
    "    test = test.map(lambda x : (x.split(',')[0], x.split(',')[1])) \\\n",
    "               .filter(lambda x : x[1] in s_common.value) \\\n",
    "               .filter(lambda x : x[0] in u_common.value) \\\n",
    "               .map(lambda x : (x[0]+','+x[1]))\n",
    "            \n",
    "    return([train,test])\n",
    "\n",
    "\n",
    "\n",
    "\n",
    "doc = document.map(parseLine)\n",
    "train_test = splitTrainTest(doc, alpha=0.1)\n",
    "train = train_test[0]\n",
    "test = train_test[1]\n",
    "\n",
    "print(\"Total number of elements at the begining:\",doc.count())\n",
    "print(\"train:\",train.collect()[:3])\n",
    "print(\"nb elements in train:\",train.count())\n",
    "print(\"test:\",test.collect()[:3])\n",
    "print(\"nb elements in test:\",test.count())"
   ]
  },
  {
   "cell_type": "markdown",
   "metadata": {},
   "source": [
    "### 2.2.2 Runing the EM iterations. "
   ]
  },
  {
   "cell_type": "code",
   "execution_count": 34,
   "metadata": {},
   "outputs": [
    {
     "name": "stdout",
     "output_type": "stream",
     "text": [
      "-8.034951417718874\n",
      "-8.02904846664227\n",
      "-8.028808910114238\n",
      "-8.028446014745514\n",
      "-8.027836676457698\n",
      "-8.026776294209572\n",
      "-8.024925660897285\n",
      "-8.02175501745174\n",
      "-8.016479262080429\n",
      "-8.007894975888048\n",
      "-7.994134254665722\n",
      "-7.972799951266452\n",
      "-7.941921144379914\n",
      "-7.902191911827641\n",
      "-7.859307852532423\n",
      "-7.821432969625984\n",
      "-7.79279436549364\n",
      "-7.772314461812054\n",
      "-7.757161549583767\n",
      "-7.745192708717117\n",
      "-7.735143222253832\n",
      "-7.726442037647042\n",
      "-7.718856755749021\n",
      "-7.712259104334182\n",
      "-7.706599917436935\n",
      "-7.701831982447259\n",
      "-7.697860683126727\n",
      "-7.694519885929915\n",
      "-7.691575290111013\n",
      "-7.6889717989614494\n"
     ]
    }
   ],
   "source": [
    "#### We use the same method/code as the 2.1 part. \n",
    "\n",
    "##### Initialisation of q*. \n",
    "\n",
    "# creation of the tuples (u,s,z ; q*)\n",
    "q = train.flatMap(cartesianProd).map(lambda usz : (usz,random.rand()))\n",
    "\n",
    "# Here we fix the number of partition at the begining. We will in fact use coalesce function along with the initial \n",
    "# number of partitions in order to control the nb of partitions of our RDD's after a join operation all along \n",
    "# the algorithm. This is crucial to speed up the execution and avoid OutOfMemoryError due to a high nb of partitions.\n",
    "num_part = q.getNumPartitions()\n",
    "# We will store here the different values of the log-likelihood function. This list will be usefull to acess \n",
    "# the convergence of the log-likelihood and then the optimal number of iteration to use. \n",
    "loglik = []\n",
    "\n",
    "# We run the EM algorithm on nb_iter iterations. We will explain how we find the optimal number nb_iter after. \n",
    "for k in range(nb_iter) :\n",
    "    \n",
    "    ################### The detailed comments are already written in 2.1 part. #####################\n",
    "    \n",
    "    # *************************** M-step **************************\n",
    "    # ********* computation of the N(s,z), N(z) & N(s,z)/N(z) = p(s|z)  functions *********\n",
    "    \n",
    "    Nsz = q.map(lambda Q : (Q[0].split(',')[1]+','+Q[0].split(',')[2],Q[1])).reduceByKey(lambda x,y : x+y)\n",
    "    Nz = Nsz.map(lambda N : (N[0].split(',')[1], N[1])).reduceByKey(lambda x,y : x+y)\n",
    "    Nsz = Nsz.map(lambda x : (x[0].split(',')[1], (x[0].split(',')[0],x[1])))\n",
    "    \n",
    "    # We use here coalesce to control the high nb of partitions generated by the join operation, as discussed at the\n",
    "    # begining of the algorithm. \n",
    "    tmpN = Nsz.join(Nz).coalesce(num_part)\n",
    "    Nsz_normalized = tmpN.map(lambda x : (x[1][0][0]+','+x[0], x[1][0][1]/x[1][1]))\n",
    "    \n",
    "    \n",
    "    # ********* computation of the p(z|u) function *********\n",
    "  \n",
    "\n",
    "    Puz = q.map(lambda Q : (Q[0].split(',')[0]+','+Q[0].split(',')[2],Q[1])).reduceByKey(lambda x,y : x+y)\n",
    "    Pu = Puz.map(lambda p : (p[0].split(',')[0], p[1])).reduceByKey(lambda x,y : x+y)\n",
    "    Puz = Puz.map(lambda x : (x[0].split(',')[0], (x[0].split(',')[1],x[1])))\n",
    "    \n",
    "    # Same here for the coalesce. \n",
    "    tmpP = Puz.join(Pu).coalesce(num_part)\n",
    "    Puz = tmpP.map(lambda x : (x[0]+','+x[1][0][0], x[1][0][1]/x[1][1]))\n",
    "\n",
    "    \n",
    "    # *************************** E-step **************************\n",
    "    # ********* computation of the q*(u,s;z) function *********\n",
    "\n",
    "   \n",
    "    tmpQ = q.map(lambda x : (x[0].split(',')[0]+','+x[0].split(',')[2] , x[0].split(',')[1]))\n",
    "    # Same here for the coalesce. \n",
    "    tmpQ = tmpQ.join(Puz).coalesce(num_part) \n",
    "    tmpQ = tmpQ.map(lambda x : (x[1][0]+','+x[0].split(',')[1] ,\\\n",
    "                                 (x[0].split(',')[0],x[1][1])))\n",
    "    # Same here for the coalesce. \n",
    "    tmpQ = tmpQ.join(Nsz_normalized).coalesce(num_part)\n",
    "\n",
    "    tmpQ = tmpQ.map(lambda x : (x[1][0][0]+','+x[0],\\\n",
    "                                 x[1][0][1]*x[1][1]))\n",
    "\n",
    "    sumTmpQ = tmpQ.map(lambda x : (x[0].split(',')[0]+','+x[0].split(',')[1],x[1])).reduceByKey(lambda x,y : x+y)\n",
    "    \n",
    "    # We compute here the log-likelihood.\n",
    "    log = sumTmpQ.map(lambda x : np.log(x[1]))\n",
    "    N = sumTmpQ.count()\n",
    "    logLik = log.reduce(lambda x,y:x+y)\n",
    "    print((1/N)*logLik)\n",
    "    loglik.append(1/N*logLik)\n",
    "\n",
    "    # We continue our E-step\n",
    "    tmpQ = tmpQ.map(lambda x : (x[0].split(',')[0]+','+x[0].split(',')[1],\\\n",
    "                                 (x[0].split(',')[2],x[1])))\n",
    "    # Same here for the coalesce. \n",
    "    tmpQ = tmpQ.join(sumTmpQ).coalesce(num_part) \n",
    "    q = tmpQ.map(lambda x : (x[0]+','+x[1][0][0], x[1][0][1]/x[1][1]))\n",
    "    \n",
    "    # we need to persist q at this point because otherwise the final collect may crash/take time because. \n",
    "    #In fact, otherwise, spark must go back to all operations performed on all iterations. \n",
    "    q.persist()"
   ]
  },
  {
   "cell_type": "code",
   "execution_count": 141,
   "metadata": {
    "collapsed": true
   },
   "outputs": [],
   "source": [
    "#Saving the loglik list. \n",
    "#np.savetxt(\"loglik_3_clusters_30_iterations.csv\", loglik, delimiter=\",\", fmt='%s', header=header)"
   ]
  },
  {
   "cell_type": "code",
   "execution_count": 35,
   "metadata": {},
   "outputs": [
    {
     "data": {
      "image/png": "[encoded data removed]",
      "text/plain": [
       "<matplotlib.figure.Figure at 0x106254860>"
      ]
     },
     "metadata": {},
     "output_type": "display_data"
    }
   ],
   "source": [
    "# Plotting the loglik. \n",
    "fig = plt.figure()\n",
    "fig.suptitle('log-likelihood = f(nb of iterations)', fontsize=14, fontweight='bold')\n",
    "ax = fig.add_subplot(111)\n",
    "fig.subplots_adjust(top=0.85)\n",
    "ax.set_xlabel('number of iterations')\n",
    "ax.set_ylabel('log-likelihood')\n",
    "ax.plot(loglik)\n",
    "plt.savefig('loglik_3_clusters_30_iterations.png')\n",
    "plt.show()"
   ]
  },
  {
   "cell_type": "code",
   "execution_count": 20,
   "metadata": {
    "collapsed": true
   },
   "outputs": [],
   "source": [
    "loglikelihood = pd.read_csv(\"loglikelihood.csv\", sep=';')"
   ]
  },
  {
   "cell_type": "code",
   "execution_count": 21,
   "metadata": {},
   "outputs": [
    {
     "data": {
      "image/png": "[encoded data removed]",
      "text/plain": [
       "<matplotlib.figure.Figure at 0x109df5588>"
      ]
     },
     "metadata": {},
     "output_type": "display_data"
    }
   ],
   "source": [
    "two_cluster, = plt.plot(loglikelihood['Iteration'], loglikelihood['2_cluster'], 'g', label='2_cluster')\n",
    "three_cluster, = plt.plot(loglikelihood['Iteration'], loglikelihood['3_cluster'], 'k', label='3_cluster')\n",
    "four_cluster,=plt.plot(loglikelihood['Iteration'], loglikelihood['4_cluster'], 'b', label='4_cluster')\n",
    "five_cluster,=plt.plot(loglikelihood['Iteration'], loglikelihood['5_cluster'], 'y', label='5_cluster')\n",
    "six_cluster,=plt.plot(loglikelihood['Iteration'], loglikelihood['6_cluster'], 'r',label='6_cluster')\n",
    "ten_cluster,=plt.plot(loglikelihood['Iteration'], loglikelihood['10_cluster'], 'c',label='10_cluster')\n",
    "fifteen_cluster,=plt.plot(loglikelihood['Iteration'], loglikelihood['15_cluster'], 'magenta',label='15_cluster')\n",
    "twenty_cluster,=plt.plot(loglikelihood['Iteration'], loglikelihood['20_cluster'], 'orange',label='20_cluster')\n",
    "plt.legend([two_cluster,three_cluster,four_cluster,five_cluster,six_cluster, ten_cluster, fifteen_cluster, twenty_cluster], ['2_cluster', '3_cluster','4_cluster','5_cluster','6_cluster','10_cluster','15_cluster','20_cluster'])\n",
    "plt.title(\"loglikelihood = f(nb of iterations)\")\n",
    "plt.xlabel(\"iterations\")\n",
    "plt.ylabel(\"loglikelihood\")\n",
    "plt.savefig('multiple.png')\n",
    "plt.show()"
   ]
  },
  {
   "cell_type": "markdown",
   "metadata": {},
   "source": [
    "### 2.2.3 Computing the final result and introducing the threshold method"
   ]
  },
  {
   "cell_type": "code",
   "execution_count": 36,
   "metadata": {},
   "outputs": [
    {
     "data": {
      "text/plain": [
       "PythonRDD[2141] at RDD at PythonRDD.scala:48"
      ]
     },
     "execution_count": 36,
     "metadata": {},
     "output_type": "execute_result"
    }
   ],
   "source": [
    "# Our goal here is to compute an RDD gathering the final result which means the tuples: ((u,s); p(s|u)) with (u,s)\n",
    "# as keys and for all the possible couples (u,s) of our training set (even the couples that was not a clik-log\n",
    "# in the training set. \n",
    "\n",
    "\n",
    "#(u, z, p(z|u)) -> (z, (u,p(z|u)))\n",
    "Puz_bis = Puz.map(lambda x : (x[0].split(',')[1], \\\n",
    "                 \n",
    "                 (x[0].split(',')[0],x[1])))\n",
    "\n",
    "#(s,z, p(s|z)) -> (z, (s,p(s|z)))\n",
    "Nsz_normalized_bis =  Nsz_normalized.map(lambda x : (x[0].split(',')[1], \\\n",
    "                 (x[0].split(',')[0],x[1])))\n",
    "\n",
    "# Generating all the possible couples (u,s)\n",
    "# JOIN --> (z, (u, p(z|u),s, p(s|z)))\n",
    "final = Puz_bis.join(Nsz_normalized_bis)\n",
    "# (z, (u, p(z|u),s, p(s|z))) --> ((u,s), p(z|u) * p(s|z))\n",
    "final = final.map(lambda  x: (x[1][0][0] +','+x[1][1][0], \\\n",
    "                           (x[1][0][1]*x[1][1][1])))\n",
    "#((u,s), p(z|u) * p(s|z)) --> ((u,s); p(s|u))\n",
    "final = final.reduceByKey(lambda x,y : x+y)\n",
    "result = final \n",
    "result.persist()"
   ]
  },
  {
   "cell_type": "code",
   "execution_count": 37,
   "metadata": {},
   "outputs": [
    {
     "data": {
      "text/plain": [
       "[('102,2599', 0.0011295927448667434),\n",
       " ('102,1341', 9.93421484056972e-05),\n",
       " ('102,349', 0.00030380414136750366),\n",
       " ('102,7841', 6.087661914754206e-09),\n",
       " ('102,4537', 9.934214856880203e-05),\n",
       " ('102,6215', 9.934214856874904e-05),\n",
       " ('102,7065', 2.9023510908802532e-05),\n",
       " ('102,4855', 0.00036737130935736705),\n",
       " ('102,8529', 9.180674022934234e-05),\n",
       " ('102,5705', 9.212840325138163e-07),\n",
       " ('102,1237', 0.0004139330234356138),\n",
       " ('102,236', 0.0002764223014668826),\n",
       " ('102,4718', 4.509544550325192e-07),\n",
       " ('102,66665', 5.081517482820518e-05),\n",
       " ('102,7135', 0.00013245609015885204),\n",
       " ('102,105954', 2.1703513801105362e-08),\n",
       " ('102,56885', 2.6392089704632866e-12),\n",
       " ('102,39659', 1.1210099693374801e-10),\n",
       " ('102,8239', 8.086146085623974e-05),\n",
       " ('102,2884', 3.311404336116794e-05)]"
      ]
     },
     "execution_count": 37,
     "metadata": {},
     "output_type": "execute_result"
    }
   ],
   "source": [
    "result.take(20)"
   ]
  },
  {
   "cell_type": "code",
   "execution_count": 38,
   "metadata": {
    "collapsed": true
   },
   "outputs": [],
   "source": [
    "# Here we define a threshold t: if the probability p(s|u) > t, then we predict a click-log (u,s).\n",
    "\n",
    "# shape - rdd = [('u,s',p(s|u))]\n",
    "\n",
    "\n",
    "\n",
    "def prediction(rdd, threshold):\n",
    "    return(rdd.map(lambda x : (x[0],x[1]>=threshold.value)))\n",
    "\n",
    "# We will define the best value for the threshold after. "
   ]
  },
  {
   "cell_type": "code",
   "execution_count": 39,
   "metadata": {
    "collapsed": true
   },
   "outputs": [],
   "source": [
    "# Computing the clik-log prediction for all the couples (u,s) and for a specific threshold.\n",
    "#pred_1 = prediction(result,sc.broadcast(.1)) - Division by zero.\n",
    "#pred_2 = prediction(result,sc.broadcast(.01))\n",
    "pred_3 = prediction(result,sc.broadcast(.001))\n",
    "pred_4 = prediction(result,sc.broadcast(.0001))\n",
    "pred_5 = prediction(result,sc.broadcast(.00001))\n",
    "pred_6 = prediction(result,sc.broadcast(.000001))"
   ]
  },
  {
   "cell_type": "markdown",
   "metadata": {},
   "source": [
    "# 3. Algorithm performance : Precision, recall & F1-score"
   ]
  },
  {
   "cell_type": "code",
   "execution_count": 40,
   "metadata": {
    "collapsed": true
   },
   "outputs": [],
   "source": [
    "# This function computes the precision and recall of the algorithm /!\\/!\\ ON THE TEST SET /!\\/!\\\n",
    "# This function takes as input the prediction rdd above [('u,s', clik log-boolean)] , a \n",
    "# train rdde set with the shape : ['u,s'] and a test rdd set with the shape : ['u,s']\n",
    "# The ouput is the tupple : (precision,recall, F1 score)\n",
    "\n",
    "# The idea of the algorithm is described in part 5 of the Latex file. \n",
    "# We remove from pred the movies on the training set(films already seen by users) in order to no impact the calculaition\n",
    "# of False Negatives et False Positives. \n",
    "\n",
    "\n",
    "def precisionRecallTest(pred, train, test) :\n",
    "    # pred is of the form [('u,s', boolean)]\n",
    "    # train is of the form : ['u,s']\n",
    "    # test is of the form : ['u,s']\n",
    "    \n",
    "    \n",
    "    # Remove from pred the films already seen by users. To do so we use substractByKey() so we need \n",
    "    # to append something to the train rdd\n",
    "    to_remove = train.map(lambda x : (x,1))\n",
    "    predict = pred.subtractByKey(to_remove)\n",
    "    \n",
    "    \n",
    "    # positive predictions (we predict that user u has seen film s)\n",
    "    pos = predict.filter(lambda x : x[1])\\\n",
    "                 .map(lambda x : x[0])\n",
    "    # Number of positive predictions\n",
    "    nb_pos = pos.count()\n",
    "    # Number of true positivies\n",
    "    nb_TP = pos.intersection(test).count() \n",
    "    # Number of false positives\n",
    "    nb_FP = nb_pos - nb_TP \n",
    "    \n",
    "    #negatives predictions (we predict that user u has never seen film s)\n",
    "    # Same spirit. \n",
    "    neg = predict.filter(lambda x : not(x[1]))\\\n",
    "                 .map(lambda x : x[0])\n",
    "    nb_neg = neg.count()\n",
    "    nb_FN = neg.intersection(test).count() # Our negative predictions are actually in the train set\n",
    "    nb_TN = nb_neg - nb_FN\n",
    "    \n",
    "    \n",
    "    # compute precision and recall\n",
    "    precision = nb_TP / (nb_FP + nb_TP)\n",
    "    recall = nb_TP / (nb_FN + nb_TP)\n",
    "    F1_score = 2 * (precision * recall)/(precision + recall)\n",
    "    \n",
    "    return((precision,recall, F1_score))\n",
    "\n",
    "\n"
   ]
  },
  {
   "cell_type": "code",
   "execution_count": 43,
   "metadata": {},
   "outputs": [
    {
     "data": {
      "image/png": "[encoded data removed]",
      "text/plain": [
       "<matplotlib.figure.Figure at 0x10e2a2ba8>"
      ]
     },
     "metadata": {},
     "output_type": "display_data"
    }
   ],
   "source": [
    "#Plotting some results of the optimization \n",
    "\n",
    "\n",
    "precision_20 = [0.06179838984011793,\n",
    "0.05281031785400847,\n",
    "0.0455299037438448,\n",
    "0.03793495565158062,\n",
    "0.028900911161731206,\n",
    "0.026981093540292933,\n",
    "0.008732843759643534,\n",
    "0.00525162140306895]\n",
    "recall_20 = [ 0.1129065672260203,\n",
    "0.14336026517505698,\n",
    "0.19059457219805262,\n",
    "0.2591671845866998,\n",
    "0.35746840687797804,\n",
    "0.3831572405220634,\n",
    "0.7943857468406877,\n",
    "0.892686969131966]\n",
    "\n",
    "\n",
    "precision_15 = [0.05842021758839529,\n",
    "0.05034165926726634,\n",
    "0.044070854107684215,\n",
    "0.03674524621762609,\n",
    "0.028982459092247507,\n",
    "0.027347324193158776,\n",
    "0.00865213213647514,\n",
    "0.0047596254250340106]\n",
    "recall_15 = [0.10679511083488709,\n",
    "0.13507354464470686,\n",
    "0.18220426766107314,\n",
    "0.24880878392376218,\n",
    "0.3568469028382018,\n",
    "0.3869898487673503,\n",
    "0.8180029003521856,\n",
    "0.9136109384711001]\n",
    "\n",
    "\n",
    "precision_10 = [0.07359376243137879,0.062439174307227376,0.051000428317934283,0.041507268553940324,\n",
    "                0.030738738419883734,0.028419815790471138,0.007666534158668863,0.004036308767714573]\n",
    "recall_10 = [0.09581520613217319,0.12626890408120986,0.1726745390511705,0.24725502382432152,\n",
    "0.3598508390304537,0.3883364408535322,0.8250466128029832,0.9285270354257302]\n",
    "\n",
    "\n",
    "precision_5 = [0.0600788481316421,\n",
    "0.0546227893440788,\n",
    "0.04691621865295355,\n",
    "0.0415425553040232,\n",
    "0.03053153791637137,\n",
    "0.028176641580058136,\n",
    "0.007693692747447314,\n",
    "0.0033626281671464]\n",
    "recall_5 = [0.07261238864719287,\n",
    "0.10109799047027139,\n",
    "0.14553552931427388,\n",
    "0.21669774186865548,\n",
    "0.33467992541951525,\n",
    "0.3664802154547338,\n",
    "0.8498031903874042,\n",
    "0.9681997099647814]\n",
    "\n",
    "precision_3 = [0.08041374708041375,\n",
    "0.06389520117631332,\n",
    "0.05404612405375271,\n",
    "0.04088666286479383,\n",
    "0.02942365617482362,\n",
    "0.02666321727809861,\n",
    "0.00661169160069094,\n",
    "0.0027037463980262304]\n",
    "recall_3 = [0.024963745597679717,\n",
    "0.04951315516884193,\n",
    "0.09540087010565569,\n",
    "0.17081002693184172,\n",
    "0.30153304329811476,\n",
    "0.3309509011808577,\n",
    "0.8488709343277397,\n",
    "0.9732753262896209]\n",
    "\n",
    "\n",
    "\n",
    "\n",
    "#plt.plot(precision_20, recall_20)\n",
    "\n",
    "\n",
    "three_cluster, = plt.plot(precision_3, recall_3, 'k', label='3_cluster')\n",
    "five_cluster,=plt.plot(precision_5, recall_5, 'y', label='5_cluster')\n",
    "ten_cluster,=plt.plot(precision_10, recall_10, 'c',label='10_cluster')\n",
    "fifteen_cluster,=plt.plot(precision_15, recall_15, 'magenta',label='15_cluster')\n",
    "twenty_cluster,=plt.plot(precision_20, recall_20, 'orange',label='20_cluster')\n",
    "plt.legend([three_cluster,five_cluster, ten_cluster, fifteen_cluster, twenty_cluster], [ '3_cluster','5_cluster','10_cluster','15_cluster','20_cluster'])\n",
    "plt.title(\"recall= f(precision)\")\n",
    "plt.xlabel(\"precision\")\n",
    "plt.ylabel(\"recall\")\n",
    "plt.savefig('precision_recall.png')\n",
    "\n",
    "plt.show()"
   ]
  }
 ],
 "metadata": {
  "kernelspec": {
   "display_name": "Python 3",
   "language": "python",
   "name": "python3"
  },
  "language_info": {
   "codemirror_mode": {
    "name": "ipython",
    "version": 3
   },
   "file_extension": ".py",
   "mimetype": "text/x-python",
   "name": "python",
   "nbconvert_exporter": "python",
   "pygments_lexer": "ipython3",
   "version": "3.6.4"
  }
 },
 "nbformat": 4,
 "nbformat_minor": 2
}
